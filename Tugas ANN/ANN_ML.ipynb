{
  "nbformat": 4,
  "nbformat_minor": 0,
  "metadata": {
    "colab": {
      "name": "TugasANN.ipynb",
      "provenance": [],
      "collapsed_sections": []
    },
    "kernelspec": {
      "name": "python3",
      "display_name": "Python 3"
    },
    "language_info": {
      "name": "python"
    }
  },
  "cells": [
    {
      "cell_type": "code",
      "metadata": {
        "id": "OloEGXnbDedY"
      },
      "source": [
        "import numpy as np\n",
        "import matplotlib.pyplot as plt\n",
        "import seaborn as sns\n",
        "import pandas as pd"
      ],
      "execution_count": 128,
      "outputs": []
    },
    {
      "cell_type": "code",
      "metadata": {
        "id": "kq4gQI2xFMO0"
      },
      "source": [
        "url='https://drive.google.com/file/d/1mNbQ7KfaXDTuM17BK-ATjaj9N6aVdv2e/view?usp=sharing'\n",
        "url2='https://drive.google.com/uc?id=' + url.split('/')[-2]\n",
        "df = pd.read_csv(url2)"
      ],
      "execution_count": 129,
      "outputs": []
    },
    {
      "cell_type": "code",
      "metadata": {
        "id": "sTekzpzwHGlC",
        "colab": {
          "base_uri": "https://localhost:8080/",
          "height": 470
        },
        "outputId": "b582a283-8592-4fbe-cccc-b15f9fd56f2e"
      },
      "source": [
        "df"
      ],
      "execution_count": 130,
      "outputs": [
        {
          "output_type": "execute_result",
          "data": {
            "text/html": [
              "<div>\n",
              "<style scoped>\n",
              "    .dataframe tbody tr th:only-of-type {\n",
              "        vertical-align: middle;\n",
              "    }\n",
              "\n",
              "    .dataframe tbody tr th {\n",
              "        vertical-align: top;\n",
              "    }\n",
              "\n",
              "    .dataframe thead th {\n",
              "        text-align: right;\n",
              "    }\n",
              "</style>\n",
              "<table border=\"1\" class=\"dataframe\">\n",
              "  <thead>\n",
              "    <tr style=\"text-align: right;\">\n",
              "      <th></th>\n",
              "      <th>aspiration</th>\n",
              "      <th>doornumber</th>\n",
              "      <th>carbody</th>\n",
              "      <th>enginelocation</th>\n",
              "      <th>cylindernumber</th>\n",
              "      <th>price</th>\n",
              "      <th>engine size 1-0</th>\n",
              "      <th>horsepower 1-0</th>\n",
              "      <th>highway mpg</th>\n",
              "    </tr>\n",
              "  </thead>\n",
              "  <tbody>\n",
              "    <tr>\n",
              "      <th>0</th>\n",
              "      <td>0</td>\n",
              "      <td>1</td>\n",
              "      <td>1</td>\n",
              "      <td>0</td>\n",
              "      <td>1</td>\n",
              "      <td>1</td>\n",
              "      <td>1</td>\n",
              "      <td>1</td>\n",
              "      <td>1</td>\n",
              "    </tr>\n",
              "    <tr>\n",
              "      <th>1</th>\n",
              "      <td>0</td>\n",
              "      <td>1</td>\n",
              "      <td>0</td>\n",
              "      <td>0</td>\n",
              "      <td>1</td>\n",
              "      <td>1</td>\n",
              "      <td>1</td>\n",
              "      <td>1</td>\n",
              "      <td>1</td>\n",
              "    </tr>\n",
              "    <tr>\n",
              "      <th>2</th>\n",
              "      <td>0</td>\n",
              "      <td>0</td>\n",
              "      <td>0</td>\n",
              "      <td>0</td>\n",
              "      <td>1</td>\n",
              "      <td>1</td>\n",
              "      <td>1</td>\n",
              "      <td>1</td>\n",
              "      <td>1</td>\n",
              "    </tr>\n",
              "    <tr>\n",
              "      <th>3</th>\n",
              "      <td>0</td>\n",
              "      <td>1</td>\n",
              "      <td>1</td>\n",
              "      <td>1</td>\n",
              "      <td>1</td>\n",
              "      <td>1</td>\n",
              "      <td>1</td>\n",
              "      <td>1</td>\n",
              "      <td>1</td>\n",
              "    </tr>\n",
              "    <tr>\n",
              "      <th>4</th>\n",
              "      <td>0</td>\n",
              "      <td>0</td>\n",
              "      <td>0</td>\n",
              "      <td>0</td>\n",
              "      <td>1</td>\n",
              "      <td>1</td>\n",
              "      <td>1</td>\n",
              "      <td>1</td>\n",
              "      <td>1</td>\n",
              "    </tr>\n",
              "    <tr>\n",
              "      <th>...</th>\n",
              "      <td>...</td>\n",
              "      <td>...</td>\n",
              "      <td>...</td>\n",
              "      <td>...</td>\n",
              "      <td>...</td>\n",
              "      <td>...</td>\n",
              "      <td>...</td>\n",
              "      <td>...</td>\n",
              "      <td>...</td>\n",
              "    </tr>\n",
              "    <tr>\n",
              "      <th>200</th>\n",
              "      <td>0</td>\n",
              "      <td>1</td>\n",
              "      <td>0</td>\n",
              "      <td>0</td>\n",
              "      <td>0</td>\n",
              "      <td>0</td>\n",
              "      <td>0</td>\n",
              "      <td>0</td>\n",
              "      <td>0</td>\n",
              "    </tr>\n",
              "    <tr>\n",
              "      <th>201</th>\n",
              "      <td>0</td>\n",
              "      <td>1</td>\n",
              "      <td>0</td>\n",
              "      <td>0</td>\n",
              "      <td>0</td>\n",
              "      <td>0</td>\n",
              "      <td>0</td>\n",
              "      <td>0</td>\n",
              "      <td>0</td>\n",
              "    </tr>\n",
              "    <tr>\n",
              "      <th>202</th>\n",
              "      <td>0</td>\n",
              "      <td>1</td>\n",
              "      <td>0</td>\n",
              "      <td>0</td>\n",
              "      <td>0</td>\n",
              "      <td>0</td>\n",
              "      <td>0</td>\n",
              "      <td>0</td>\n",
              "      <td>0</td>\n",
              "    </tr>\n",
              "    <tr>\n",
              "      <th>203</th>\n",
              "      <td>0</td>\n",
              "      <td>1</td>\n",
              "      <td>0</td>\n",
              "      <td>0</td>\n",
              "      <td>0</td>\n",
              "      <td>0</td>\n",
              "      <td>0</td>\n",
              "      <td>0</td>\n",
              "      <td>0</td>\n",
              "    </tr>\n",
              "    <tr>\n",
              "      <th>204</th>\n",
              "      <td>0</td>\n",
              "      <td>1</td>\n",
              "      <td>0</td>\n",
              "      <td>0</td>\n",
              "      <td>0</td>\n",
              "      <td>0</td>\n",
              "      <td>0</td>\n",
              "      <td>0</td>\n",
              "      <td>0</td>\n",
              "    </tr>\n",
              "  </tbody>\n",
              "</table>\n",
              "<p>205 rows × 9 columns</p>\n",
              "</div>"
            ],
            "text/plain": [
              "     aspiration  doornumber  ...  horsepower 1-0  highway mpg\n",
              "0             0           1  ...               1            1\n",
              "1             0           1  ...               1            1\n",
              "2             0           0  ...               1            1\n",
              "3             0           1  ...               1            1\n",
              "4             0           0  ...               1            1\n",
              "..          ...         ...  ...             ...          ...\n",
              "200           0           1  ...               0            0\n",
              "201           0           1  ...               0            0\n",
              "202           0           1  ...               0            0\n",
              "203           0           1  ...               0            0\n",
              "204           0           1  ...               0            0\n",
              "\n",
              "[205 rows x 9 columns]"
            ]
          },
          "metadata": {},
          "execution_count": 130
        }
      ]
    },
    {
      "cell_type": "code",
      "metadata": {
        "id": "77ksGjnJHMAz",
        "colab": {
          "base_uri": "https://localhost:8080/"
        },
        "outputId": "d0f038da-87f7-42f8-8a17-46f52df1178b"
      },
      "source": [
        "df['price']"
      ],
      "execution_count": 131,
      "outputs": [
        {
          "output_type": "execute_result",
          "data": {
            "text/plain": [
              "0      1\n",
              "1      1\n",
              "2      1\n",
              "3      1\n",
              "4      1\n",
              "      ..\n",
              "200    0\n",
              "201    0\n",
              "202    0\n",
              "203    0\n",
              "204    0\n",
              "Name: price, Length: 205, dtype: int64"
            ]
          },
          "metadata": {},
          "execution_count": 131
        }
      ]
    },
    {
      "cell_type": "code",
      "metadata": {
        "id": "xcjRuCwDVh0v"
      },
      "source": [
        "df=df.fillna(method='ffill')"
      ],
      "execution_count": 132,
      "outputs": []
    },
    {
      "cell_type": "code",
      "metadata": {
        "colab": {
          "base_uri": "https://localhost:8080/"
        },
        "id": "8Itk3OTbWHIR",
        "outputId": "59007265-4d4b-49be-f4a8-df135e961851"
      },
      "source": [
        "df.info()"
      ],
      "execution_count": 133,
      "outputs": [
        {
          "output_type": "stream",
          "name": "stdout",
          "text": [
            "<class 'pandas.core.frame.DataFrame'>\n",
            "RangeIndex: 205 entries, 0 to 204\n",
            "Data columns (total 9 columns):\n",
            " #   Column           Non-Null Count  Dtype\n",
            "---  ------           --------------  -----\n",
            " 0   aspiration       205 non-null    int64\n",
            " 1   doornumber       205 non-null    int64\n",
            " 2   carbody          205 non-null    int64\n",
            " 3   enginelocation   205 non-null    int64\n",
            " 4   cylindernumber   205 non-null    int64\n",
            " 5   price            205 non-null    int64\n",
            " 6   engine size 1-0  205 non-null    int64\n",
            " 7   horsepower 1-0   205 non-null    int64\n",
            " 8   highway mpg      205 non-null    int64\n",
            "dtypes: int64(9)\n",
            "memory usage: 14.5 KB\n"
          ]
        }
      ]
    },
    {
      "cell_type": "code",
      "metadata": {
        "id": "NuK0_S3rWIrI"
      },
      "source": [
        "y=df['aspiration']"
      ],
      "execution_count": 134,
      "outputs": []
    },
    {
      "cell_type": "code",
      "metadata": {
        "id": "PXSQI_kwWL_0"
      },
      "source": [
        "x=df.drop('aspiration', axis=1)"
      ],
      "execution_count": 135,
      "outputs": []
    },
    {
      "cell_type": "code",
      "metadata": {
        "id": "1yjiyoKUXXnT"
      },
      "source": [
        "labels = [0, 1]"
      ],
      "execution_count": 139,
      "outputs": []
    },
    {
      "cell_type": "code",
      "metadata": {
        "colab": {
          "base_uri": "https://localhost:8080/"
        },
        "id": "4KfRPrNDWS_8",
        "outputId": "16d6a353-fcbd-4527-d666-ea11154aa7d8"
      },
      "source": [
        "y"
      ],
      "execution_count": 140,
      "outputs": [
        {
          "output_type": "execute_result",
          "data": {
            "text/plain": [
              "0      0\n",
              "1      0\n",
              "2      0\n",
              "3      0\n",
              "4      0\n",
              "      ..\n",
              "200    0\n",
              "201    0\n",
              "202    0\n",
              "203    0\n",
              "204    0\n",
              "Name: aspiration, Length: 205, dtype: int64"
            ]
          },
          "metadata": {},
          "execution_count": 140
        }
      ]
    },
    {
      "cell_type": "code",
      "metadata": {
        "colab": {
          "base_uri": "https://localhost:8080/",
          "height": 470
        },
        "id": "-X5neN2jWTnK",
        "outputId": "0a3e18af-a22c-4b71-e8ec-eeb9d5b39c51"
      },
      "source": [
        "x"
      ],
      "execution_count": 141,
      "outputs": [
        {
          "output_type": "execute_result",
          "data": {
            "text/html": [
              "<div>\n",
              "<style scoped>\n",
              "    .dataframe tbody tr th:only-of-type {\n",
              "        vertical-align: middle;\n",
              "    }\n",
              "\n",
              "    .dataframe tbody tr th {\n",
              "        vertical-align: top;\n",
              "    }\n",
              "\n",
              "    .dataframe thead th {\n",
              "        text-align: right;\n",
              "    }\n",
              "</style>\n",
              "<table border=\"1\" class=\"dataframe\">\n",
              "  <thead>\n",
              "    <tr style=\"text-align: right;\">\n",
              "      <th></th>\n",
              "      <th>doornumber</th>\n",
              "      <th>carbody</th>\n",
              "      <th>enginelocation</th>\n",
              "      <th>cylindernumber</th>\n",
              "      <th>price</th>\n",
              "      <th>engine size 1-0</th>\n",
              "      <th>horsepower 1-0</th>\n",
              "      <th>highway mpg</th>\n",
              "    </tr>\n",
              "  </thead>\n",
              "  <tbody>\n",
              "    <tr>\n",
              "      <th>0</th>\n",
              "      <td>1</td>\n",
              "      <td>1</td>\n",
              "      <td>0</td>\n",
              "      <td>1</td>\n",
              "      <td>1</td>\n",
              "      <td>1</td>\n",
              "      <td>1</td>\n",
              "      <td>1</td>\n",
              "    </tr>\n",
              "    <tr>\n",
              "      <th>1</th>\n",
              "      <td>1</td>\n",
              "      <td>0</td>\n",
              "      <td>0</td>\n",
              "      <td>1</td>\n",
              "      <td>1</td>\n",
              "      <td>1</td>\n",
              "      <td>1</td>\n",
              "      <td>1</td>\n",
              "    </tr>\n",
              "    <tr>\n",
              "      <th>2</th>\n",
              "      <td>0</td>\n",
              "      <td>0</td>\n",
              "      <td>0</td>\n",
              "      <td>1</td>\n",
              "      <td>1</td>\n",
              "      <td>1</td>\n",
              "      <td>1</td>\n",
              "      <td>1</td>\n",
              "    </tr>\n",
              "    <tr>\n",
              "      <th>3</th>\n",
              "      <td>1</td>\n",
              "      <td>1</td>\n",
              "      <td>1</td>\n",
              "      <td>1</td>\n",
              "      <td>1</td>\n",
              "      <td>1</td>\n",
              "      <td>1</td>\n",
              "      <td>1</td>\n",
              "    </tr>\n",
              "    <tr>\n",
              "      <th>4</th>\n",
              "      <td>0</td>\n",
              "      <td>0</td>\n",
              "      <td>0</td>\n",
              "      <td>1</td>\n",
              "      <td>1</td>\n",
              "      <td>1</td>\n",
              "      <td>1</td>\n",
              "      <td>1</td>\n",
              "    </tr>\n",
              "    <tr>\n",
              "      <th>...</th>\n",
              "      <td>...</td>\n",
              "      <td>...</td>\n",
              "      <td>...</td>\n",
              "      <td>...</td>\n",
              "      <td>...</td>\n",
              "      <td>...</td>\n",
              "      <td>...</td>\n",
              "      <td>...</td>\n",
              "    </tr>\n",
              "    <tr>\n",
              "      <th>200</th>\n",
              "      <td>1</td>\n",
              "      <td>0</td>\n",
              "      <td>0</td>\n",
              "      <td>0</td>\n",
              "      <td>0</td>\n",
              "      <td>0</td>\n",
              "      <td>0</td>\n",
              "      <td>0</td>\n",
              "    </tr>\n",
              "    <tr>\n",
              "      <th>201</th>\n",
              "      <td>1</td>\n",
              "      <td>0</td>\n",
              "      <td>0</td>\n",
              "      <td>0</td>\n",
              "      <td>0</td>\n",
              "      <td>0</td>\n",
              "      <td>0</td>\n",
              "      <td>0</td>\n",
              "    </tr>\n",
              "    <tr>\n",
              "      <th>202</th>\n",
              "      <td>1</td>\n",
              "      <td>0</td>\n",
              "      <td>0</td>\n",
              "      <td>0</td>\n",
              "      <td>0</td>\n",
              "      <td>0</td>\n",
              "      <td>0</td>\n",
              "      <td>0</td>\n",
              "    </tr>\n",
              "    <tr>\n",
              "      <th>203</th>\n",
              "      <td>1</td>\n",
              "      <td>0</td>\n",
              "      <td>0</td>\n",
              "      <td>0</td>\n",
              "      <td>0</td>\n",
              "      <td>0</td>\n",
              "      <td>0</td>\n",
              "      <td>0</td>\n",
              "    </tr>\n",
              "    <tr>\n",
              "      <th>204</th>\n",
              "      <td>1</td>\n",
              "      <td>0</td>\n",
              "      <td>0</td>\n",
              "      <td>0</td>\n",
              "      <td>0</td>\n",
              "      <td>0</td>\n",
              "      <td>0</td>\n",
              "      <td>0</td>\n",
              "    </tr>\n",
              "  </tbody>\n",
              "</table>\n",
              "<p>205 rows × 8 columns</p>\n",
              "</div>"
            ],
            "text/plain": [
              "     doornumber  carbody  ...  horsepower 1-0  highway mpg\n",
              "0             1        1  ...               1            1\n",
              "1             1        0  ...               1            1\n",
              "2             0        0  ...               1            1\n",
              "3             1        1  ...               1            1\n",
              "4             0        0  ...               1            1\n",
              "..          ...      ...  ...             ...          ...\n",
              "200           1        0  ...               0            0\n",
              "201           1        0  ...               0            0\n",
              "202           1        0  ...               0            0\n",
              "203           1        0  ...               0            0\n",
              "204           1        0  ...               0            0\n",
              "\n",
              "[205 rows x 8 columns]"
            ]
          },
          "metadata": {},
          "execution_count": 141
        }
      ]
    },
    {
      "cell_type": "code",
      "metadata": {
        "colab": {
          "base_uri": "https://localhost:8080/"
        },
        "id": "Aa9m7Q2VYwKL",
        "outputId": "0a9ab595-2d2a-4fb3-b473-3e50d2770c42"
      },
      "source": [
        "x.values"
      ],
      "execution_count": 142,
      "outputs": [
        {
          "output_type": "execute_result",
          "data": {
            "text/plain": [
              "array([[1, 1, 0, ..., 1, 1, 1],\n",
              "       [1, 0, 0, ..., 1, 1, 1],\n",
              "       [0, 0, 0, ..., 1, 1, 1],\n",
              "       ...,\n",
              "       [1, 0, 0, ..., 0, 0, 0],\n",
              "       [1, 0, 0, ..., 0, 0, 0],\n",
              "       [1, 0, 0, ..., 0, 0, 0]])"
            ]
          },
          "metadata": {},
          "execution_count": 142
        }
      ]
    },
    {
      "cell_type": "code",
      "metadata": {
        "id": "gBDo5v0gW2NL"
      },
      "source": [
        "def create_neural_net(layer_array, input_dims):\n",
        "    weights = []\n",
        "    biases = []\n",
        "    activations = []\n",
        "    \n",
        "    for i in range(len(layer_array)):\n",
        "        node_num = layer_array[i][0]\n",
        "        weights_of_layer = []\n",
        "        biases_of_layer = []\n",
        "        if i == 0:\n",
        "            last_layer_node_number = input_dims\n",
        "        else:\n",
        "            last_layer_node_number = layer_array[i-1][0]\n",
        "        \n",
        "        for n in range(0,node_num):\n",
        "            weights_of_node = []\n",
        "            for l in range(0, last_layer_node_number):\n",
        "                weights_of_node.append(1) \n",
        "            weights_of_layer.append(weights_of_node)\n",
        "            biases_of_layer.append(0)\n",
        "            \n",
        "        weights.append(weights_of_layer)\n",
        "        biases.append(biases_of_layer)\n",
        "        activations.append(layer_array[i][1])\n",
        "    return [weights, biases, activations]"
      ],
      "execution_count": 144,
      "outputs": []
    },
    {
      "cell_type": "code",
      "metadata": {
        "colab": {
          "base_uri": "https://localhost:8080/"
        },
        "id": "9CyeT2u-XG8w",
        "outputId": "3c782dae-28d3-432b-c071-81f9291c8470"
      },
      "source": [
        "layer_array = [[len(labels), 'sigmoid']]\n",
        "input_dims = 8\n",
        "neural_net = create_neural_net(layer_array, input_dims)\n",
        "\n",
        "print(' weights:',neural_net[0],'\\n\\n biases:',neural_net[1],'\\n\\n activations:', neural_net[2])"
      ],
      "execution_count": 241,
      "outputs": [
        {
          "output_type": "stream",
          "name": "stdout",
          "text": [
            " weights: [[[1, 1, 1, 1, 1, 1, 1, 1], [1, 1, 1, 1, 1, 1, 1, 1]]] \n",
            "\n",
            " biases: [[0, 0]] \n",
            "\n",
            " activations: ['sigmoid']\n"
          ]
        }
      ]
    },
    {
      "cell_type": "code",
      "metadata": {
        "id": "x4jrmuSNXdxO"
      },
      "source": [
        "def sigmoid(x):\n",
        "    return 1 / (1 + np.exp(-x))\n",
        "    \n",
        "def sigmoid_deriv(x):\n",
        "    return x * (1 - x)\n",
        "\n",
        "def relu(x):\n",
        "    if x < 0:\n",
        "        return 0\n",
        "    else:\n",
        "        return x"
      ],
      "execution_count": 146,
      "outputs": []
    },
    {
      "cell_type": "code",
      "metadata": {
        "id": "SrxaDix1Xrz7"
      },
      "source": [
        "def predict_ratio(data, neural_net):\n",
        "    weights = neural_net[0]\n",
        "    biases = neural_net[1]\n",
        "    activations = neural_net[2]\n",
        "    \n",
        "    layer_num = len(weights)\n",
        "    \n",
        "    for l in range(0, layer_num):\n",
        "        data = np.dot(weights[l], data)\n",
        "        for t in range(len(data)):\n",
        "            data[t] += biases[l][t]\n",
        "        if activations[l] == 'sigmoid':\n",
        "            data = sigmoid(data)\n",
        "        elif activations[l] == 'relu':\n",
        "            data = relu(data)\n",
        "        else:\n",
        "            # If not identified, do it with sigmoid\n",
        "            data = sigmoid(data)\n",
        "            print('activation function', activations[l], 'cannot be found. Sigmoid is used')   \n",
        "    return data\n",
        "\n",
        "def predict(data, neural_net):\n",
        "    data = predict_ratio(data, neural_net)\n",
        "    \n",
        "    class_num = len(data)\n",
        "    \n",
        "    highest_class = None\n",
        "    highest_class_probability = -1\n",
        "    \n",
        "    for i in range(0, class_num):\n",
        "        if highest_class == None:\n",
        "            highest_class = i\n",
        "            highest_class_probability = data[i]\n",
        "        elif data[i] > highest_class_probability:\n",
        "            highest_class = i\n",
        "            highest_class_probability = data[i]\n",
        "            \n",
        "    return highest_class, highest_class_probability"
      ],
      "execution_count": 147,
      "outputs": []
    },
    {
      "cell_type": "code",
      "metadata": {
        "id": "w7_UtBHIZxN5"
      },
      "source": [
        "def train_network(X, Y, labels, neural_net, epochs=1000):\n",
        "    for epoch in range(0, epochs):\n",
        "        for d in range(0, len(X)):\n",
        "            prediction = predict_ratio(X[d], neural_net)\n",
        "            \n",
        "            # Calculate total error per label\n",
        "            true_prediction = []\n",
        "            for i in range(0, len(labels)):\n",
        "                true_prediction.append(0)\n",
        "            true_prediction[labels.index(Y[d])] = 1\n",
        "            \n",
        "            errors = []\n",
        "            for t in range(len(prediction)):\n",
        "                errors.append(true_prediction[t] - prediction[t]) \n",
        "            adjust_deriv = errors * sigmoid_deriv(prediction)\n",
        "            \n",
        "            for k in range(0, len(adjust_deriv)):\n",
        "                adjustment = np.dot(X[d], adjust_deriv[k])\n",
        "                neural_net[0][0][k] += adjustment\n",
        "    return neural_net"
      ],
      "execution_count": 150,
      "outputs": []
    },
    {
      "cell_type": "code",
      "metadata": {
        "id": "jfgS9z4OZ76i"
      },
      "source": [
        "neural_net = train_network(x.values, y.values, labels, neural_net, epochs=1000)\n"
      ],
      "execution_count": 243,
      "outputs": []
    },
    {
      "cell_type": "code",
      "metadata": {
        "colab": {
          "base_uri": "https://localhost:8080/"
        },
        "id": "xwR_HiDlaCe7",
        "outputId": "2e6fc3bb-7e72-464d-f89b-c6faf7e15f29"
      },
      "source": [
        "for i in range(len(x.values)):\n",
        "    print(predict(x.values[i], neural_net))"
      ],
      "execution_count": 244,
      "outputs": [
        {
          "output_type": "stream",
          "name": "stdout",
          "text": [
            "(0, 0.9978684849275111)\n",
            "(0, 0.9821226457642208)\n",
            "(0, 0.8652595485042477)\n",
            "(0, 0.9992157836178959)\n",
            "(0, 0.8652595485042477)\n",
            "(0, 0.9821226457642208)\n",
            "(0, 0.8652595485042477)\n",
            "(0, 0.9978684849275111)\n",
            "(0, 0.8652595485042477)\n",
            "(0, 0.9992157836178959)\n",
            "(0, 0.9992157836178959)\n",
            "(0, 0.8652595485042477)\n",
            "(0, 0.8652595485042477)\n",
            "(0, 0.9821226457642208)\n",
            "(0, 0.8652595485042477)\n",
            "(0, 0.9826444449579748)\n",
            "(0, 0.9979396911738427)\n",
            "(0, 0.869179973030609)\n",
            "(0, 0.869179973030609)\n",
            "(0, 0.869179973030609)\n",
            "(1, 0.760277285917391)\n",
            "(0, 0.869179973030609)\n",
            "(0, 0.7295850284140892)\n",
            "(0, 0.869179973030609)\n",
            "(0, 0.869179973030609)\n",
            "(0, 0.9827107500451263)\n",
            "(0, 0.9827107500451263)\n",
            "(1, 0.760277285917391)\n",
            "(0, 0.7288158575233881)\n",
            "(0, 0.9826444449579748)\n",
            "(1, 0.5537185272130671)\n",
            "(1, 0.760277285917391)\n",
            "(0, 0.9827107500451263)\n",
            "(1, 0.7187952900418811)\n",
            "(1, 0.760277285917391)\n",
            "(1, 0.760277285917391)\n",
            "(0, 0.873345832070487)\n",
            "(1, 0.7187952900418811)\n",
            "(0, 0.9827107500451263)\n",
            "(0, 0.869179973030609)\n",
            "(0, 0.9583185981804409)\n",
            "(0, 0.869179973030609)\n",
            "(0, 0.9827107500451263)\n",
            "(0, 0.9377607714787569)\n",
            "(0, 0.8188025231657075)\n",
            "(1, 0.7187952900418811)\n",
            "(1, 0.760277285917391)\n",
            "(0, 0.9746885844530246)\n",
            "(0, 0.8188025231657075)\n",
            "(0, 0.9827107500451263)\n",
            "(0, 0.7288158575233881)\n",
            "(0, 0.7295850284140892)\n",
            "(0, 0.9583185981804409)\n",
            "(0, 0.9827107500451263)\n",
            "(0, 0.9747845041253864)\n",
            "(0, 0.9827107500451263)\n",
            "(1, 0.760277285917391)\n",
            "(0, 0.9826444449579748)\n",
            "(0, 0.869179973030609)\n",
            "(0, 0.873345832070487)\n",
            "(0, 0.8188025231657075)\n",
            "(1, 0.5537185272130671)\n",
            "(0, 0.9827107500451263)\n",
            "(0, 0.873345832070487)\n",
            "(0, 0.7295850284140892)\n",
            "(0, 0.7295850284140892)\n",
            "(0, 0.9826444449579748)\n",
            "(0, 0.8188025231657075)\n",
            "(0, 0.9377607714787569)\n",
            "(0, 0.5)\n",
            "(0, 0.9747845041253864)\n",
            "(0, 0.869179973030609)\n",
            "(0, 0.869179973030609)\n",
            "(0, 0.9583185981804409)\n",
            "(0, 0.7288158575233881)\n",
            "(0, 0.869179973030609)\n",
            "(1, 0.7187952900418811)\n",
            "(0, 0.7295850284140892)\n",
            "(0, 0.8188025231657075)\n",
            "(1, 0.760277285917391)\n",
            "(0, 0.7295850284140892)\n",
            "(0, 0.7295850284140892)\n",
            "(0, 0.9746885844530246)\n",
            "(0, 0.8949759102061358)\n",
            "(1, 0.5537185272130671)\n",
            "(0, 0.8188025231657075)\n",
            "(0, 0.873345832070487)\n",
            "(0, 0.9747845041253864)\n",
            "(0, 0.872914347359636)\n",
            "(0, 0.9969736430244031)\n",
            "(0, 0.7295850284140892)\n",
            "(1, 0.5537185272130671)\n",
            "(0, 0.5)\n",
            "(0, 0.5)\n",
            "(0, 0.9583185981804409)\n",
            "(0, 0.9747845041253864)\n",
            "(0, 0.9747845041253864)\n",
            "(0, 0.5)\n",
            "(0, 0.5)\n",
            "(0, 0.5)\n",
            "(0, 0.895341471548644)\n",
            "(0, 0.895341471548644)\n",
            "(0, 0.5)\n",
            "(0, 0.5)\n",
            "(0, 0.8949759102061358)\n",
            "(0, 0.5)\n",
            "(0, 0.7295850284140892)\n",
            "(0, 0.5)\n",
            "(0, 0.9747845041253864)\n",
            "(0, 0.5)\n",
            "(0, 0.873345832070487)\n",
            "(0, 0.7699712915877356)\n",
            "(0, 0.9583185981804409)\n",
            "(0, 0.5)\n",
            "(0, 0.873345832070487)\n",
            "(0, 0.5)\n",
            "(0, 0.873345832070487)\n",
            "(0, 0.7692806684031761)\n",
            "(1, 0.5537185272130671)\n",
            "(1, 0.5537185272130671)\n",
            "(0, 0.5)\n",
            "(0, 0.8188025231657075)\n",
            "(0, 0.895341471548644)\n",
            "(0, 0.5)\n",
            "(0, 0.5)\n",
            "(0, 0.9746885844530246)\n",
            "(0, 0.9746885844530246)\n",
            "(0, 0.895341471548644)\n",
            "(0, 0.5)\n",
            "(0, 0.5)\n",
            "(0, 0.895341471548644)\n",
            "(0, 0.8949759102061358)\n",
            "(0, 0.9747845041253864)\n",
            "(0, 0.895341471548644)\n",
            "(0, 0.5)\n",
            "(0, 0.5)\n",
            "(0, 0.9583185981804409)\n",
            "(0, 0.5)\n",
            "(0, 0.9864684759166419)\n",
            "(0, 0.895341471548644)\n",
            "(0, 0.5)\n",
            "(0, 0.5)\n",
            "(0, 0.895341471548644)\n",
            "(0, 0.9746885844530246)\n",
            "(0, 0.8949759102061358)\n",
            "(0, 0.5)\n",
            "(0, 0.895341471548644)\n",
            "(0, 0.9747845041253864)\n",
            "(0, 0.9747845041253864)\n",
            "(0, 0.8949759102061358)\n",
            "(0, 0.5)\n",
            "(0, 0.895341471548644)\n",
            "(0, 0.895341471548644)\n",
            "(0, 0.5)\n",
            "(0, 0.5)\n",
            "(0, 0.895341471548644)\n",
            "(0, 0.5)\n",
            "(0, 0.9747845041253864)\n",
            "(0, 0.5)\n",
            "(0, 0.5)\n",
            "(0, 0.895341471548644)\n",
            "(0, 0.5)\n",
            "(0, 0.8949759102061358)\n",
            "(0, 0.5)\n",
            "(0, 0.8949759102061358)\n",
            "(0, 0.895341471548644)\n",
            "(0, 0.5)\n",
            "(0, 0.8949759102061358)\n",
            "(0, 0.5)\n",
            "(0, 0.895341471548644)\n",
            "(0, 0.5)\n",
            "(0, 0.895341471548644)\n",
            "(0, 0.895341471548644)\n",
            "(0, 0.5)\n",
            "(0, 0.5)\n",
            "(0, 0.8949759102061358)\n",
            "(0, 0.895341471548644)\n",
            "(0, 0.5)\n",
            "(0, 0.895341471548644)\n",
            "(0, 0.8188025231657075)\n",
            "(0, 0.5)\n",
            "(0, 0.5)\n",
            "(0, 0.5)\n",
            "(0, 0.895341471548644)\n",
            "(0, 0.895341471548644)\n",
            "(0, 0.5)\n",
            "(0, 0.895341471548644)\n",
            "(0, 0.5)\n",
            "(0, 0.895341471548644)\n",
            "(0, 0.895341471548644)\n",
            "(0, 0.895341471548644)\n",
            "(0, 0.895341471548644)\n",
            "(0, 0.5)\n",
            "(0, 0.5)\n",
            "(0, 0.895341471548644)\n",
            "(0, 0.895341471548644)\n",
            "(0, 0.895341471548644)\n",
            "(0, 0.895341471548644)\n",
            "(0, 0.895341471548644)\n",
            "(0, 0.895341471548644)\n",
            "(0, 0.895341471548644)\n",
            "(0, 0.895341471548644)\n",
            "(0, 0.895341471548644)\n",
            "(0, 0.895341471548644)\n",
            "(0, 0.895341471548644)\n"
          ]
        }
      ]
    },
    {
      "cell_type": "code",
      "metadata": {
        "colab": {
          "base_uri": "https://localhost:8080/"
        },
        "id": "gh410_saaTSd",
        "outputId": "557b77fb-0f86-45f4-9ca6-b671bb3876ae"
      },
      "source": [
        "print(len(x.values))"
      ],
      "execution_count": 155,
      "outputs": [
        {
          "output_type": "stream",
          "name": "stdout",
          "text": [
            "205\n"
          ]
        }
      ]
    },
    {
      "cell_type": "code",
      "metadata": {
        "colab": {
          "base_uri": "https://localhost:8080/"
        },
        "id": "tDrrgm54ahY_",
        "outputId": "058d302a-e0e3-4c5e-b803-7523b2ae7497"
      },
      "source": [
        "x.values[204]"
      ],
      "execution_count": 156,
      "outputs": [
        {
          "output_type": "execute_result",
          "data": {
            "text/plain": [
              "array([1, 0, 0, 0, 0, 0, 0, 0])"
            ]
          },
          "metadata": {},
          "execution_count": 156
        }
      ]
    },
    {
      "cell_type": "code",
      "metadata": {
        "colab": {
          "base_uri": "https://localhost:8080/"
        },
        "id": "2RfpqPZebirF",
        "outputId": "3f4dca6b-6f07-4f33-946f-833212edba2b"
      },
      "source": [
        "y.values[204]"
      ],
      "execution_count": 163,
      "outputs": [
        {
          "output_type": "execute_result",
          "data": {
            "text/plain": [
              "0"
            ]
          },
          "metadata": {},
          "execution_count": 163
        }
      ]
    },
    {
      "cell_type": "code",
      "metadata": {
        "colab": {
          "base_uri": "https://localhost:8080/"
        },
        "id": "JbBwX0l5aiM-",
        "outputId": "cfbeac55-938c-432f-e9b8-2b8f319c9282"
      },
      "source": [
        "predict(x.values[204], neural_net)"
      ],
      "execution_count": 158,
      "outputs": [
        {
          "output_type": "execute_result",
          "data": {
            "text/plain": [
              "(0, 0.895341471548644)"
            ]
          },
          "metadata": {},
          "execution_count": 158
        }
      ]
    },
    {
      "cell_type": "code",
      "metadata": {
        "colab": {
          "base_uri": "https://localhost:8080/"
        },
        "id": "wZHMx9qWbRPF",
        "outputId": "0d4cf17d-361a-48a9-b95a-23340d03b8d3"
      },
      "source": [
        "x.values[20]"
      ],
      "execution_count": 160,
      "outputs": [
        {
          "output_type": "execute_result",
          "data": {
            "text/plain": [
              "array([0, 0, 0, 0, 0, 1, 1, 1])"
            ]
          },
          "metadata": {},
          "execution_count": 160
        }
      ]
    },
    {
      "cell_type": "code",
      "metadata": {
        "colab": {
          "base_uri": "https://localhost:8080/"
        },
        "id": "hWoz8pSUbUeW",
        "outputId": "65e56728-4303-474b-d9d9-76e531550781"
      },
      "source": [
        "y.values[20]"
      ],
      "execution_count": 161,
      "outputs": [
        {
          "output_type": "execute_result",
          "data": {
            "text/plain": [
              "1"
            ]
          },
          "metadata": {},
          "execution_count": 161
        }
      ]
    },
    {
      "cell_type": "code",
      "metadata": {
        "colab": {
          "base_uri": "https://localhost:8080/"
        },
        "id": "qRJhgTGGbPwJ",
        "outputId": "02f75904-8c46-4cb4-b6a3-57ef5dbd65ee"
      },
      "source": [
        "predict(x.values[20], neural_net)"
      ],
      "execution_count": 159,
      "outputs": [
        {
          "output_type": "execute_result",
          "data": {
            "text/plain": [
              "(1, 0.760277285917391)"
            ]
          },
          "metadata": {},
          "execution_count": 159
        }
      ]
    },
    {
      "cell_type": "code",
      "metadata": {
        "colab": {
          "base_uri": "https://localhost:8080/"
        },
        "id": "vhPCL5R8bmPU",
        "outputId": "db46e9ce-76d6-4a1c-f916-4d67bfcd3c00"
      },
      "source": [
        "predict(x.values[17], neural_net)"
      ],
      "execution_count": 179,
      "outputs": [
        {
          "output_type": "execute_result",
          "data": {
            "text/plain": [
              "(0, 0.869179973030609)"
            ]
          },
          "metadata": {},
          "execution_count": 179
        }
      ]
    },
    {
      "cell_type": "code",
      "metadata": {
        "colab": {
          "base_uri": "https://localhost:8080/"
        },
        "id": "JDM2u8XHb0Cd",
        "outputId": "dfe1b935-4204-4201-e9e7-bc7cc3999682"
      },
      "source": [
        "y.values[17]"
      ],
      "execution_count": 175,
      "outputs": [
        {
          "output_type": "execute_result",
          "data": {
            "text/plain": [
              "1"
            ]
          },
          "metadata": {},
          "execution_count": 175
        }
      ]
    },
    {
      "cell_type": "code",
      "metadata": {
        "colab": {
          "base_uri": "https://localhost:8080/"
        },
        "id": "sLRyUQlhc83c",
        "outputId": "a3c47360-8466-442e-bafb-e37fe7c40da4"
      },
      "source": [
        "predict(x.values[20], neural_net)[0]"
      ],
      "execution_count": 183,
      "outputs": [
        {
          "output_type": "execute_result",
          "data": {
            "text/plain": [
              "1"
            ]
          },
          "metadata": {},
          "execution_count": 183
        }
      ]
    },
    {
      "cell_type": "code",
      "metadata": {
        "colab": {
          "base_uri": "https://localhost:8080/"
        },
        "id": "qED4W31CdVUd",
        "outputId": "e43b015a-3ead-4ab9-8896-c57387e112cd"
      },
      "source": [
        "jumlah_benar = 0\n",
        "jumlah_salah = 0\n",
        "\n",
        "for i in range(0, len(x.values)):\n",
        "  if(predict(x.values[i], neural_net)[0]==y.values[i]):\n",
        "    jumlah_benar+=1\n",
        "  else:\n",
        "    jumlah_salah+=1\n",
        "\n",
        "print(jumlah_benar)\n",
        "print(jumlah_salah)"
      ],
      "execution_count": 188,
      "outputs": [
        {
          "output_type": "stream",
          "name": "stdout",
          "text": [
            "170\n",
            "35\n"
          ]
        }
      ]
    },
    {
      "cell_type": "code",
      "metadata": {
        "colab": {
          "base_uri": "https://localhost:8080/"
        },
        "id": "9niaab34dzcf",
        "outputId": "e0bc457b-fa25-4978-c4d0-ac1d930ee355"
      },
      "source": [
        "accuracy = jumlah_benar/(jumlah_salah+jumlah_benar)\n",
        "\n",
        "print(\"Akurasi hasil ANN : \", accuracy)"
      ],
      "execution_count": 192,
      "outputs": [
        {
          "output_type": "stream",
          "name": "stdout",
          "text": [
            "Akurasi hasil ANN :  0.8292682926829268\n"
          ]
        }
      ]
    },
    {
      "cell_type": "code",
      "metadata": {
        "id": "qaq8bzQbgz1f"
      },
      "source": [
        "def input_parameter():\n",
        "  p1 = int(input(\"Input '1' untuk pintu mobil lebih dari 2, dan '0' untuk 2 atau kurang : \"))\n",
        "  p2 = int(input(\"Input '1' untuk jenis mobil non-sedan, dan '0' untuk mobil sedan : \"))\n",
        "  p3 = int(input(\"Input '1' untuk lokasi engine di bagian belakang mobil, dan '0' untuk di depan mobil : \"))\n",
        "  p4 = int(input(\"Input '1' untuk jumlah cylinder mobil 5 atau lebih, dan '0' untuk kurang dari 5 : \"))\n",
        "  p5 = int(input(\"Input '1' untuk harga pasaran mobil lebih dari 30000 USD, dan '0' untuk kurang dari : \"))\n",
        "  p6 = int(input(\"Input '1' untuk engine size lebih dari 126 cc, dan '0' untuk kurang dari: \"))\n",
        "  p7 = int(input(\"Input '1' untuk horsepower lebih dari 104, dan '0' untuk kurang dari : \"))\n",
        "  p8 = int(input(\"Input '1' untuk highway mpg kurang dari 30, dan '0' untuk kurang dari : \"))\n",
        "\n",
        "  hasil_parameter = [p1, p2, p3, p4, p5, p6, p7, p8]\n",
        "  return hasil_parameter"
      ],
      "execution_count": 232,
      "outputs": []
    },
    {
      "cell_type": "code",
      "metadata": {
        "id": "3E2bnOFZhmkf"
      },
      "source": [
        "def prediksi():\n",
        "  masukan_parameter = input_parameter()\n",
        "  hasil_prediksi = predict(masukan_parameter, neural_net)\n",
        "\n",
        "  if(hasil_prediksi[0]) == 0:\n",
        "    jenis_prediksi = \"Standar atau non-turbo\"\n",
        "  else:\n",
        "    jenis_prediksi = \"Turbo\"\n",
        "  \n",
        "  print(\"\\nPrediksi jenis mobil : \", jenis_prediksi)\n",
        "  print(\"Perkiraan akurasi kebenaran   : \", hasil_prediksi[1]*100, \"%\")"
      ],
      "execution_count": 237,
      "outputs": []
    },
    {
      "cell_type": "code",
      "metadata": {
        "colab": {
          "base_uri": "https://localhost:8080/"
        },
        "id": "Y79K-I5wlosQ",
        "outputId": "314e2f53-21dc-4c2c-8364-9052644474e2"
      },
      "source": [
        "prediksi()"
      ],
      "execution_count": 238,
      "outputs": [
        {
          "output_type": "stream",
          "name": "stdout",
          "text": [
            "Input '1' untuk pintu mobil lebih dari 2, dan '0' untuk 2 atau kurang : 0\n",
            "Input '1' untuk jenis mobil non-sedan, dan '0' untuk mobil sedan : 0\n",
            "Input '1' untuk lokasi engine di bagian belakang mobil, dan '0' untuk di depan mobil : 1\n",
            "Input '1' untuk jumlah cylinder mobil 5 atau lebih, dan '0' untuk kurang dari 5 : 1\n",
            "Input '1' untuk harga pasaran mobil lebih dari 30000 USD, dan '0' untuk kurang dari : 1\n",
            "Input '1' untuk engine size lebih dari 126 cc, dan '0' untuk kurang dari: 1\n",
            "Input '1' untuk horsepower lebih dari 104, dan '0' untuk kurang dari : 1\n",
            "Input '1' untuk highway mpg kurang dari 30, dan '0' untuk kurang dari : 0\n",
            "\n",
            "Prediksi jenis mobil :  Standar atau non-turbo\n",
            "Perkiraan akurasi kebenaran   :  79.45668258560673 %\n"
          ]
        }
      ]
    },
    {
      "cell_type": "code",
      "metadata": {
        "colab": {
          "base_uri": "https://localhost:8080/"
        },
        "id": "YUZOj5EHlsiP",
        "outputId": "161daa34-ba4f-423c-d721-68b7c23a9a38"
      },
      "source": [
        "prediksi()"
      ],
      "execution_count": 239,
      "outputs": [
        {
          "output_type": "stream",
          "name": "stdout",
          "text": [
            "Input '1' untuk pintu mobil lebih dari 2, dan '0' untuk 2 atau kurang : 0\n",
            "Input '1' untuk jenis mobil non-sedan, dan '0' untuk mobil sedan : 0\n",
            "Input '1' untuk lokasi engine di bagian belakang mobil, dan '0' untuk di depan mobil : 0\n",
            "Input '1' untuk jumlah cylinder mobil 5 atau lebih, dan '0' untuk kurang dari 5 : 0\n",
            "Input '1' untuk harga pasaran mobil lebih dari 30000 USD, dan '0' untuk kurang dari : 0\n",
            "Input '1' untuk engine size lebih dari 126 cc, dan '0' untuk kurang dari: 1\n",
            "Input '1' untuk horsepower lebih dari 104, dan '0' untuk kurang dari : 1\n",
            "Input '1' untuk highway mpg kurang dari 30, dan '0' untuk kurang dari : 1\n",
            "\n",
            "Prediksi jenis mobil :  Turbo\n",
            "Perkiraan akurasi kebenaran   :  76.02772859173909 %\n"
          ]
        }
      ]
    },
    {
      "cell_type": "code",
      "metadata": {
        "id": "blHIIGnatF-X"
      },
      "source": [
        ""
      ],
      "execution_count": null,
      "outputs": []
    }
  ]
}